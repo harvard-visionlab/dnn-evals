{
 "cells": [
  {
   "cell_type": "code",
   "execution_count": null,
   "id": "6c0a0bc9-97a4-460b-bb75-3bbdfd0638ff",
   "metadata": {},
   "outputs": [],
   "source": [
    "from cleanvision import Imagelab\n",
    "\n",
    "data_path = '/n/alvarez_lab_tier1/Lab/cache/torch/data/imagenetv2-matched-frequency-format-val-5fbc2174/imagenetv2-matched-frequency-format-val'\n",
    "imagelab = Imagelab(data_path=data_path)\n",
    "\n",
    "imagelab.find_issues()\n",
    "imagelab.report()"
   ]
  },
  {
   "cell_type": "code",
   "execution_count": null,
   "id": "3a161f7c-1d73-4ce5-99c2-ce32f5e412c9",
   "metadata": {},
   "outputs": [],
   "source": []
  },
  {
   "cell_type": "code",
   "execution_count": null,
   "id": "b7aeb832-41cd-4a05-80b5-d6ae29a308f2",
   "metadata": {},
   "outputs": [],
   "source": []
  }
 ],
 "metadata": {
  "kernelspec": {
   "display_name": "analysis",
   "language": "python",
   "name": "analysis"
  },
  "language_info": {
   "codemirror_mode": {
    "name": "ipython",
    "version": 3
   },
   "file_extension": ".py",
   "mimetype": "text/x-python",
   "name": "python",
   "nbconvert_exporter": "python",
   "pygments_lexer": "ipython3",
   "version": "3.10.6"
  }
 },
 "nbformat": 4,
 "nbformat_minor": 5
}
