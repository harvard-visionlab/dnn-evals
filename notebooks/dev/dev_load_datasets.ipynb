{
 "cells": [
  {
   "cell_type": "code",
   "execution_count": null,
   "id": "2e6c5109-4550-4db7-b842-b3c78ae0bc16",
   "metadata": {},
   "outputs": [],
   "source": []
  },
  {
   "cell_type": "markdown",
   "id": "b3ec6d71-8d47-4b28-b870-3412e95439b8",
   "metadata": {},
   "source": [
    "# imagenetV2"
   ]
  },
  {
   "cell_type": "code",
   "execution_count": null,
   "id": "2b10db92-bafc-4ffa-81a7-1d8d486c0ae9",
   "metadata": {},
   "outputs": [],
   "source": [
    "from deep_analytics.datasets.imagenetV2 import imagenetV2, splits\n",
    "\n",
    "splits"
   ]
  },
  {
   "cell_type": "code",
   "execution_count": null,
   "id": "558e806f-f0e5-4a26-b2f4-726448a7da8f",
   "metadata": {},
   "outputs": [],
   "source": [
    "dataset = imagenetV2('top-images')\n",
    "dataset"
   ]
  },
  {
   "cell_type": "code",
   "execution_count": null,
   "id": "21233770-2313-4780-876f-0d7d30fed8e1",
   "metadata": {},
   "outputs": [],
   "source": [
    "idx = 0\n",
    "img,label,index = dataset[idx]\n",
    "print(index,label)\n",
    "img"
   ]
  },
  {
   "cell_type": "code",
   "execution_count": null,
   "id": "2535a105-1eb0-4d03-bdd8-b8c291c8dfc3",
   "metadata": {},
   "outputs": [],
   "source": []
  }
 ],
 "metadata": {
  "kernelspec": {
   "display_name": "workshop",
   "language": "python",
   "name": "workshop"
  },
  "language_info": {
   "codemirror_mode": {
    "name": "ipython",
    "version": 3
   },
   "file_extension": ".py",
   "mimetype": "text/x-python",
   "name": "python",
   "nbconvert_exporter": "python",
   "pygments_lexer": "ipython3",
   "version": "3.9.18"
  }
 },
 "nbformat": 4,
 "nbformat_minor": 5
}
