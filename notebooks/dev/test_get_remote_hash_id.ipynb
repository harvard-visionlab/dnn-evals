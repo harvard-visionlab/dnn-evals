{
 "cells": [
  {
   "cell_type": "code",
   "execution_count": null,
   "id": "da1cb198-142b-4d9d-a576-62ff75784169",
   "metadata": {},
   "outputs": [],
   "source": [
    "from deep_analytics.datasets.storage import get_remote_hash"
   ]
  },
  {
   "cell_type": "code",
   "execution_count": null,
   "id": "b38ff849-8ec1-43be-af75-cbcdb1c91b94",
   "metadata": {},
   "outputs": [],
   "source": [
    "from deep_analytics.datasets.imagenetv2 import urls"
   ]
  },
  {
   "cell_type": "code",
   "execution_count": null,
   "id": "b53acd0f-eeed-48d9-ba4b-b1d6a82e2ec3",
   "metadata": {},
   "outputs": [],
   "source": [
    "hash_ids = dict()\n",
    "for k, url in urls.items():\n",
    "    hash_id = get_remote_hash(url)[0:8]\n",
    "    print(k, hash_id)\n",
    "    hash_ids[k] = hash_id\n",
    "hash_ids    "
   ]
  },
  {
   "cell_type": "code",
   "execution_count": null,
   "id": "54290075-3f8e-460c-9344-e13ed1329987",
   "metadata": {},
   "outputs": [],
   "source": [
    "import torch\n",
    "import os\n",
    "from pathlib import Path\n",
    "\n",
    "os.path.join(Path(torch.hub.get_dir()).parent, \"data\")"
   ]
  },
  {
   "cell_type": "code",
   "execution_count": null,
   "id": "c09c25e1-f394-446a-bf9d-d6600eff67ed",
   "metadata": {},
   "outputs": [],
   "source": [
    "s3_urls = {\n",
    "    \"top-images\": \"s3://visionlab-datasets/imagenetV2/imagenetv2-top-images-format-val-d9d6134f.tar.gz\",\n",
    "    \"threshold0.7\": \"imagenetv2-threshold0.7-format-val-3dc78c9f.tar.gz\",\n",
    "    \"matched-frequency\": \"imagenetv2-matched-frequency-format-val-5fbc2174.tar.gz\"\n",
    "}"
   ]
  },
  {
   "cell_type": "code",
   "execution_count": null,
   "id": "56a96db9-e196-4c90-90b3-31ba49b70c26",
   "metadata": {},
   "outputs": [],
   "source": [
    "list(s3_urls.keys())"
   ]
  },
  {
   "cell_type": "code",
   "execution_count": null,
   "id": "9b5a179a-5e0a-4466-ae6c-8bc588e0b0f4",
   "metadata": {},
   "outputs": [],
   "source": []
  }
 ],
 "metadata": {
  "kernelspec": {
   "display_name": "workshop",
   "language": "python",
   "name": "workshop"
  },
  "language_info": {
   "codemirror_mode": {
    "name": "ipython",
    "version": 3
   },
   "file_extension": ".py",
   "mimetype": "text/x-python",
   "name": "python",
   "nbconvert_exporter": "python",
   "pygments_lexer": "ipython3",
   "version": "3.9.18"
  }
 },
 "nbformat": 4,
 "nbformat_minor": 5
}
